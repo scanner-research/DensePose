{
 "cells": [
  {
   "cell_type": "code",
   "execution_count": null,
   "metadata": {
    "ExecuteTime": {
     "end_time": "2019-07-02T04:11:11.133871Z",
     "start_time": "2019-07-02T04:11:10.776193Z"
    },
    "scrolled": true
   },
   "outputs": [],
   "source": [
    "from caffe2.python import workspace\n",
    "from detectron.core.config import assert_and_infer_cfg\n",
    "from detectron.core.config import cfg\n",
    "from detectron.core.config import merge_cfg_from_file\n",
    "from detectron.utils.io import cache_url\n",
    "from detectron.utils.logging import setup_logging\n",
    "from detectron.utils.timer import Timer\n",
    "import detectron.core.test_engine as infer_engine\n",
    "import detectron.datasets.dummy_datasets as dummy_datasets\n",
    "import detectron.utils.c2 as c2_utils\n",
    "import detectron.utils.vis as vis_utils\n",
    "\n",
    "import pycocotools.mask as mask_util\n",
    "import cv2\n",
    "import numpy as np\n",
    "import matplotlib.pyplot as plt\n",
    "import matplotlib.pylab as pylab"
   ]
  },
  {
   "cell_type": "code",
   "execution_count": null,
   "metadata": {
    "ExecuteTime": {
     "end_time": "2019-07-02T04:11:11.145898Z",
     "start_time": "2019-07-02T04:11:11.135461Z"
    }
   },
   "outputs": [],
   "source": [
    "# this makes our figures bigger\n",
    "pylab.rcParams['figure.figsize'] = 20, 12\n",
    "def imshow(img):\n",
    "    plt.imshow(img[:, :, [2, 1, 0]])\n",
    "    plt.axis(\"off\")"
   ]
  },
  {
   "cell_type": "code",
   "execution_count": null,
   "metadata": {
    "ExecuteTime": {
     "end_time": "2019-07-02T04:11:11.158580Z",
     "start_time": "2019-07-02T04:11:11.147598Z"
    }
   },
   "outputs": [],
   "source": [
    "c2_utils.import_detectron_ops()\n",
    "# OpenCL may be enabled by default in OpenCV3; disable it because it's not\n",
    "# thread safe and causes unwanted GPU memory allocations.\n",
    "cv2.ocl.setUseOpenCL(False)"
   ]
  },
  {
   "cell_type": "code",
   "execution_count": null,
   "metadata": {
    "ExecuteTime": {
     "end_time": "2019-07-02T04:11:16.298792Z",
     "start_time": "2019-07-02T04:11:11.160295Z"
    },
    "scrolled": true
   },
   "outputs": [],
   "source": [
    "CONFIG_FILE = \"/opt/DensePose/configs/DensePoseKeyPointsMask_ResNet50_FPN_s1x-e2e.yaml\"\n",
    "MODEL_FILE = \"https://dl.fbaipublicfiles.com/densepose/DensePoseKeyPointsMask_ResNet50_FPN_s1x-e2e.pkl\"\n",
    "\n",
    "merge_cfg_from_file(CONFIG_FILE)\n",
    "cfg.TEST.NMS = 0.3\n",
    "cfg.NUM_GPUS = 1\n",
    "model_weights = cache_url(MODEL_FILE, cfg.DOWNLOAD_CACHE)\n",
    "assert_and_infer_cfg(cache_urls=False)\n",
    "model = infer_engine.initialize_model_from_cfg(model_weights)"
   ]
  },
  {
   "cell_type": "code",
   "execution_count": null,
   "metadata": {
    "ExecuteTime": {
     "end_time": "2019-07-02T04:11:46.873426Z",
     "start_time": "2019-07-02T04:11:46.826935Z"
    }
   },
   "outputs": [],
   "source": [
    "image = cv2.imread('../DensePoseData/demo_data/input3.png')"
   ]
  },
  {
   "cell_type": "code",
   "execution_count": null,
   "metadata": {
    "ExecuteTime": {
     "end_time": "2019-07-02T04:11:49.492169Z",
     "start_time": "2019-07-02T04:11:48.966835Z"
    }
   },
   "outputs": [],
   "source": [
    "with c2_utils.NamedCudaScope(0):\n",
    "    cls_boxes, cls_segms, cls_keyps, cls_bodys = infer_engine.im_detect_all(\n",
    "        model, image, None, None\n",
    "    )"
   ]
  },
  {
   "cell_type": "code",
   "execution_count": null,
   "metadata": {
    "ExecuteTime": {
     "end_time": "2019-07-02T04:11:51.596074Z",
     "start_time": "2019-07-02T04:11:50.727204Z"
    },
    "scrolled": false
   },
   "outputs": [],
   "source": [
    "result = vis_utils.vis_one_image_opencv(image, cls_boxes, cls_segms, cls_keyps, show_box=True)\n",
    "imshow(result)"
   ]
  }
 ],
 "metadata": {
  "kernelspec": {
   "display_name": "Python 3",
   "language": "python",
   "name": "python3"
  },
  "language_info": {
   "codemirror_mode": {
    "name": "ipython",
    "version": 3
   },
   "file_extension": ".py",
   "mimetype": "text/x-python",
   "name": "python",
   "nbconvert_exporter": "python",
   "pygments_lexer": "ipython3",
   "version": "3.5.2"
  },
  "toc": {
   "nav_menu": {},
   "number_sections": true,
   "sideBar": true,
   "skip_h1_title": false,
   "toc_cell": false,
   "toc_position": {},
   "toc_section_display": "block",
   "toc_window_display": false
  }
 },
 "nbformat": 4,
 "nbformat_minor": 2
}
